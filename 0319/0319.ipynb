{
 "cells": [
  {
   "cell_type": "markdown",
   "metadata": {},
   "source": [
    "0319-1"
   ]
  },
  {
   "cell_type": "code",
   "execution_count": 2,
   "metadata": {},
   "outputs": [
    {
     "name": "stdout",
     "output_type": "stream",
     "text": [
      "請輸入數字:12234\n"
     ]
    }
   ],
   "source": [
    "x=input('請輸入數字:')"
   ]
  },
  {
   "cell_type": "code",
   "execution_count": 4,
   "metadata": {},
   "outputs": [
    {
     "data": {
      "text/plain": [
       "True"
      ]
     },
     "execution_count": 4,
     "metadata": {},
     "output_type": "execute_result"
    }
   ],
   "source": [
    "not len(set(x)) == len(list(x))"
   ]
  },
  {
   "cell_type": "markdown",
   "metadata": {},
   "source": [
    "0319-2"
   ]
  },
  {
   "cell_type": "code",
   "execution_count": 5,
   "metadata": {},
   "outputs": [
    {
     "name": "stdout",
     "output_type": "stream",
     "text": [
      "猜幸運號碼:5\n",
      "還沒中喔，請繼續猜\n",
      "猜幸運號碼:3\n"
     ]
    }
   ],
   "source": [
    "while True:\n",
    "    a=input(\"猜幸運號碼:\")\n",
    "    if a == \"3\":\n",
    "        break\n",
    "    print(\"還沒中喔，請繼續猜\")"
   ]
  },
  {
   "cell_type": "markdown",
   "metadata": {},
   "source": [
    "0319-3"
   ]
  },
  {
   "cell_type": "code",
   "execution_count": 6,
   "metadata": {},
   "outputs": [
    {
     "name": "stdout",
     "output_type": "stream",
     "text": [
      "1 1 1\n",
      "1 2 2\n",
      "1 3 3\n",
      "1 4 4\n",
      "1 5 5\n",
      "1 6 6\n",
      "1 7 7\n",
      "1 8 8\n",
      "1 9 9\n",
      "2 1 2\n",
      "2 2 4\n",
      "2 3 6\n",
      "2 4 8\n",
      "2 5 10\n",
      "2 6 12\n",
      "2 7 14\n",
      "2 8 16\n",
      "2 9 18\n",
      "3 1 3\n",
      "3 2 6\n",
      "3 3 9\n",
      "3 4 12\n",
      "3 5 15\n",
      "3 6 18\n",
      "3 7 21\n",
      "3 8 24\n",
      "3 9 27\n",
      "4 1 4\n",
      "4 2 8\n",
      "4 3 12\n",
      "4 4 16\n",
      "4 5 20\n",
      "4 6 24\n",
      "4 7 28\n",
      "4 8 32\n",
      "4 9 36\n",
      "5 1 5\n",
      "5 2 10\n",
      "5 3 15\n",
      "5 4 20\n",
      "5 5 25\n",
      "5 6 30\n",
      "5 7 35\n",
      "5 8 40\n",
      "5 9 45\n",
      "6 1 6\n",
      "6 2 12\n",
      "6 3 18\n",
      "6 4 24\n",
      "6 5 30\n",
      "6 6 36\n",
      "6 7 42\n",
      "6 8 48\n",
      "6 9 54\n",
      "7 1 7\n",
      "7 2 14\n",
      "7 3 21\n",
      "7 4 28\n",
      "7 5 35\n",
      "7 6 42\n",
      "7 7 49\n",
      "7 8 56\n",
      "7 9 63\n",
      "8 1 8\n",
      "8 2 16\n",
      "8 3 24\n",
      "8 4 32\n",
      "8 5 40\n",
      "8 6 48\n",
      "8 7 56\n",
      "8 8 64\n",
      "8 9 72\n",
      "9 1 9\n",
      "9 2 18\n",
      "9 3 27\n",
      "9 4 36\n",
      "9 5 45\n",
      "9 6 54\n",
      "9 7 63\n",
      "9 8 72\n",
      "9 9 81\n"
     ]
    }
   ],
   "source": [
    "rows=range(1,10)\n",
    "cols=range(1,10)\n",
    "for row in rows:\n",
    "    for col in cols:\n",
    "        print(row,col,row*col)"
   ]
  },
  {
   "cell_type": "markdown",
   "metadata": {},
   "source": [
    "0319-4"
   ]
  },
  {
   "cell_type": "code",
   "execution_count": 11,
   "metadata": {},
   "outputs": [],
   "source": [
    "a_list=[]\n",
    "for number in range(1,6):\n",
    "    if number%2==1:\n",
    "        a_list.append(number)\n"
   ]
  },
  {
   "cell_type": "code",
   "execution_count": 12,
   "metadata": {},
   "outputs": [
    {
     "name": "stdout",
     "output_type": "stream",
     "text": [
      "[1, 3, 5]\n"
     ]
    }
   ],
   "source": [
    "print(a_list)"
   ]
  },
  {
   "cell_type": "markdown",
   "metadata": {},
   "source": [
    "0319-5"
   ]
  },
  {
   "cell_type": "code",
   "execution_count": 14,
   "metadata": {},
   "outputs": [
    {
     "name": "stdout",
     "output_type": "stream",
     "text": [
      "[(1, '*', 1, '=', 1), (1, '*', 2, '=', 2), (1, '*', 3, '=', 3), (1, '*', 4, '=', 4), (1, '*', 5, '=', 5), (1, '*', 6, '=', 6), (1, '*', 7, '=', 7), (1, '*', 8, '=', 8), (1, '*', 9, '=', 9), (2, '*', 1, '=', 2), (2, '*', 2, '=', 4), (2, '*', 3, '=', 6), (2, '*', 4, '=', 8), (2, '*', 5, '=', 10), (2, '*', 6, '=', 12), (2, '*', 7, '=', 14), (2, '*', 8, '=', 16), (2, '*', 9, '=', 18), (3, '*', 1, '=', 3), (3, '*', 2, '=', 6), (3, '*', 3, '=', 9), (3, '*', 4, '=', 12), (3, '*', 5, '=', 15), (3, '*', 6, '=', 18), (3, '*', 7, '=', 21), (3, '*', 8, '=', 24), (3, '*', 9, '=', 27), (4, '*', 1, '=', 4), (4, '*', 2, '=', 8), (4, '*', 3, '=', 12), (4, '*', 4, '=', 16), (4, '*', 5, '=', 20), (4, '*', 6, '=', 24), (4, '*', 7, '=', 28), (4, '*', 8, '=', 32), (4, '*', 9, '=', 36), (5, '*', 1, '=', 5), (5, '*', 2, '=', 10), (5, '*', 3, '=', 15), (5, '*', 4, '=', 20), (5, '*', 5, '=', 25), (5, '*', 6, '=', 30), (5, '*', 7, '=', 35), (5, '*', 8, '=', 40), (5, '*', 9, '=', 45), (6, '*', 1, '=', 6), (6, '*', 2, '=', 12), (6, '*', 3, '=', 18), (6, '*', 4, '=', 24), (6, '*', 5, '=', 30), (6, '*', 6, '=', 36), (6, '*', 7, '=', 42), (6, '*', 8, '=', 48), (6, '*', 9, '=', 54), (7, '*', 1, '=', 7), (7, '*', 2, '=', 14), (7, '*', 3, '=', 21), (7, '*', 4, '=', 28), (7, '*', 5, '=', 35), (7, '*', 6, '=', 42), (7, '*', 7, '=', 49), (7, '*', 8, '=', 56), (7, '*', 9, '=', 63), (8, '*', 1, '=', 8), (8, '*', 2, '=', 16), (8, '*', 3, '=', 24), (8, '*', 4, '=', 32), (8, '*', 5, '=', 40), (8, '*', 6, '=', 48), (8, '*', 7, '=', 56), (8, '*', 8, '=', 64), (8, '*', 9, '=', 72), (9, '*', 1, '=', 9), (9, '*', 2, '=', 18), (9, '*', 3, '=', 27), (9, '*', 4, '=', 36), (9, '*', 5, '=', 45), (9, '*', 6, '=', 54), (9, '*', 7, '=', 63), (9, '*', 8, '=', 72), (9, '*', 9, '=', 81)]\n"
     ]
    }
   ],
   "source": [
    "nn=[(row,\"*\",col,\"=\",row*col)for row in range(1,10)for col in range(1,10)]\n",
    "print(nn)"
   ]
  },
  {
   "cell_type": "markdown",
   "metadata": {},
   "source": [
    "0319-6"
   ]
  },
  {
   "cell_type": "code",
   "execution_count": 15,
   "metadata": {},
   "outputs": [],
   "source": [
    "iron_man_color = \"白色\"\n",
    "def iron_man_def(a):\n",
    "    if a ==\"紅色\":\n",
    "        return(\"鋼鐵人的盔甲是紅色的\")\n",
    "    elif a ==\"綠色\":\n",
    "        return(\"鋼鐵人其實也可以參考浩克的顏色\")\n",
    "    elif a ==\"藍色\":\n",
    "        return(\"鋼鐵人變成藍色小精靈也不錯\")\n",
    "    else:\n",
    "        return(\"好像沒有這種顏色\",a)"
   ]
  },
  {
   "cell_type": "code",
   "execution_count": 16,
   "metadata": {},
   "outputs": [
    {
     "data": {
      "text/plain": [
       "('好像沒有這種顏色', '白色')"
      ]
     },
     "execution_count": 16,
     "metadata": {},
     "output_type": "execute_result"
    }
   ],
   "source": [
    "iron_man_def(iron_man_color)"
   ]
  },
  {
   "cell_type": "markdown",
   "metadata": {},
   "source": [
    "0319-7"
   ]
  },
  {
   "cell_type": "code",
   "execution_count": 20,
   "metadata": {},
   "outputs": [],
   "source": [
    "def add (a,b):\n",
    "    print(a+b)"
   ]
  },
  {
   "cell_type": "code",
   "execution_count": 19,
   "metadata": {},
   "outputs": [],
   "source": [
    "def muchine (func,a,b):\n",
    "    return func(a,b)"
   ]
  },
  {
   "cell_type": "code",
   "execution_count": 22,
   "metadata": {},
   "outputs": [
    {
     "name": "stdout",
     "output_type": "stream",
     "text": [
      "4\n"
     ]
    }
   ],
   "source": [
    "muchine(add,2,2)"
   ]
  },
  {
   "cell_type": "code",
   "execution_count": 23,
   "metadata": {},
   "outputs": [],
   "source": [
    "def minus(a,b):\n",
    "    print (a-b)"
   ]
  },
  {
   "cell_type": "code",
   "execution_count": 24,
   "metadata": {},
   "outputs": [
    {
     "name": "stdout",
     "output_type": "stream",
     "text": [
      "2\n"
     ]
    }
   ],
   "source": [
    "muchine(minus,3,1)"
   ]
  },
  {
   "cell_type": "code",
   "execution_count": 25,
   "metadata": {},
   "outputs": [],
   "source": [
    "def multi(a,b):\n",
    "    print(a*b)"
   ]
  },
  {
   "cell_type": "code",
   "execution_count": 26,
   "metadata": {},
   "outputs": [
    {
     "name": "stdout",
     "output_type": "stream",
     "text": [
      "30\n"
     ]
    }
   ],
   "source": [
    "muchine(multi,6,5)"
   ]
  },
  {
   "cell_type": "code",
   "execution_count": 27,
   "metadata": {},
   "outputs": [],
   "source": [
    "def divi(a,b):\n",
    "    print(a/b)"
   ]
  },
  {
   "cell_type": "code",
   "execution_count": 28,
   "metadata": {},
   "outputs": [
    {
     "name": "stdout",
     "output_type": "stream",
     "text": [
      "2.0\n"
     ]
    }
   ],
   "source": [
    "muchine(divi,6,3)"
   ]
  }
 ],
 "metadata": {
  "kernelspec": {
   "display_name": "Python 3",
   "language": "python",
   "name": "python3"
  },
  "language_info": {
   "codemirror_mode": {
    "name": "ipython",
    "version": 3
   },
   "file_extension": ".py",
   "mimetype": "text/x-python",
   "name": "python",
   "nbconvert_exporter": "python",
   "pygments_lexer": "ipython3",
   "version": "3.6.4"
  }
 },
 "nbformat": 4,
 "nbformat_minor": 2
}
